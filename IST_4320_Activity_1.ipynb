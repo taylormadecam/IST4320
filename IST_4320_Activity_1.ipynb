{
 "cells": [
  {
   "cell_type": "markdown",
   "metadata": {
    "id": "aKwd0_a-K9lr"
   },
   "source": [
    "Please go through the following in the text:\n",
    "- [Chapter 2 - Values, Expressions, and Statements](https://eng.libretexts.org/Bookshelves/Computer_Science/Book%3A_Python_for_Everybody_(Severance)/02%3A_Variables_Expressions_and_Statements)\n",
    "- [Chapter 3 - Conditional Execution](https://eng.libretexts.org/Bookshelves/Computer_Science/Book%3A_Python_for_Everybody_(Severance)/03%3A_Conditional_Execution)\n",
    "- [Chapter 4 - Functions](https://eng.libretexts.org/Bookshelves/Computer_Science/Book%3A_Python_for_Everybody_(Severance)/04%3A_Functions)\n",
    "\n",
    "The activities in the text are interactive! 😀 I'll also include some extra notes from time to time as well.\n",
    "\n",
    "Run each cell by pressing the play button. Look at \"Runtime\" at the top of the screen for some keyboard shortcuts too.\n",
    "### Values, Expressions, and Statements"
   ]
  },
  {
   "cell_type": "code",
   "execution_count": null,
   "metadata": {
    "colab": {
     "base_uri": "https://localhost:8080/"
    },
    "id": "5_4rZnA1YCjm",
    "outputId": "2a658201-7869-4571-8573-904213e4c215"
   },
   "outputs": [
    {
     "name": "stdout",
     "output_type": "stream",
     "text": [
      "Hello world!\n"
     ]
    }
   ],
   "source": [
    "#printing with the print() function\n",
    "print('Hello world!')\n"
   ]
  },
  {
   "cell_type": "code",
   "execution_count": 2,
   "metadata": {
    "colab": {
     "base_uri": "https://localhost:8080/"
    },
    "id": "3t2zTNJCSbuA",
    "outputId": "b44a15e2-2e4b-447f-bdde-2d0728431914"
   },
   "outputs": [
    {
     "name": "stdout",
     "output_type": "stream",
     "text": [
      "True\n",
      "4\n",
      "34\n",
      "hello there\n",
      "hey hey hey \n"
     ]
    }
   ],
   "source": [
    "### % modulus is great for checking if things are even or odd, or take last digits.\n",
    "\n",
    "# You can check if a number is even \n",
    "print(100%2 == 0) # If you divide a number by 2 and the remainder is 0, then it's an even number.\n",
    "\n",
    "# What's the last digit of 1234? \n",
    "print(1234 % 10)\n",
    "\n",
    "# Last two digits? \n",
    "print(1234 % 100)\n",
    "\n",
    "# Concatenate two strings with 'hello ' 'there' with + or repeat with *\n",
    "print(\"hello\" + \" there\")\n",
    "print(\"hey \"*3)\n",
    "# get input from a user. input(\"Write something:\")\n",
    "name = input('What is your name?\\nFirst name only.\\n')\n",
    "age = int(input(\"Input your age! Whole numbers only..\"))\n",
    "\n"
   ]
  },
  {
   "cell_type": "markdown",
   "metadata": {
    "id": "o2PRq3C17CjR"
   },
   "source": [
    "### Conditionals"
   ]
  },
  {
   "cell_type": "code",
   "execution_count": 3,
   "metadata": {
    "colab": {
     "base_uri": "https://localhost:8080/"
    },
    "id": "opjeOZJz7Jkc",
    "outputId": "00f3eaff-dc4d-4c6e-ebbb-6306dc45c04b"
   },
   "outputs": [
    {
     "name": "stdout",
     "output_type": "stream",
     "text": [
      "<class 'bool'>\n",
      "True\n",
      "False\n"
     ]
    }
   ],
   "source": [
    "#boolean class 'bool' True and False. Use == to compare\n",
    "print(type(True))\n",
    "#!= , <, >, is, is not\n",
    "print(\"cheating\" != \"good\") #😎\n",
    "#and, or, not\n",
    "print(3 >= 10)\n",
    "\n"
   ]
  },
  {
   "cell_type": "code",
   "execution_count": 4,
   "metadata": {
    "colab": {
     "base_uri": "https://localhost:8080/"
    },
    "id": "i0GGVwd585u6",
    "outputId": "2a7b01b3-c6c6-4fd8-f30c-8c57b558f4b6"
   },
   "outputs": [
    {
     "name": "stdout",
     "output_type": "stream",
     "text": [
      "1 ?? this ain't zero\n"
     ]
    }
   ],
   "source": [
    "#if statements, pass, else\n",
    "x = 1\n",
    "if x==0: # an if statement checks if a condition is met\n",
    "    pass # this continues on with the rest of the code\n",
    "else: # an else statement is what should happen if a condition is NOT met\n",
    "    print(x, \"?? this ain't zero\")"
   ]
  },
  {
   "cell_type": "code",
   "execution_count": 5,
   "metadata": {
    "colab": {
     "base_uri": "https://localhost:8080/"
    },
    "id": "MwzpGj451VpX",
    "outputId": "5a109f09-fefc-42d7-b75c-25a4a8ee243b"
   },
   "outputs": [
    {
     "name": "stdout",
     "output_type": "stream",
     "text": [
      "Incorrect input! Please use a valid number\n"
     ]
    }
   ],
   "source": [
    "# try and except works great when a wrong input would otherwise crash your program...\n",
    "x = \"😎\"\n",
    "try: \n",
    "    x + 10   \n",
    "except: \n",
    "    print(\"Incorrect input! Please use a valid number\")"
   ]
  },
  {
   "cell_type": "markdown",
   "metadata": {
    "id": "4kML_hxIGt0J"
   },
   "source": [
    "### Functions"
   ]
  },
  {
   "cell_type": "code",
   "execution_count": 6,
   "metadata": {
    "colab": {
     "base_uri": "https://localhost:8080/"
    },
    "id": "TYTykmClGv4V",
    "outputId": "a2390b74-d3f0-4a04-cf21-1436868c29bb"
   },
   "outputs": [
    {
     "name": "stdout",
     "output_type": "stream",
     "text": [
      "You already know about the print function :)\n",
      "The minimum number in this list is 2\n",
      "The maximum number in this list is 10\n",
      "The length of this list is 5\n"
     ]
    }
   ],
   "source": [
    "# A function performs some computation and takes in arguments of different types. \n",
    "# Here's some common built-in functions\n",
    "print(\"You already know about the print function :)\")\n",
    "number_list = [2,4,6,8,10]\n",
    "print(\"The minimum number in this list is\", min(number_list))\n",
    "print(\"The maximum number in this list is\", max(number_list))\n",
    "print(\"The length of this list is\", len(number_list))"
   ]
  },
  {
   "cell_type": "code",
   "execution_count": 7,
   "metadata": {
    "colab": {
     "base_uri": "https://localhost:8080/"
    },
    "id": "4insaV37H2v1",
    "outputId": "bf420a4c-86e1-4e8e-8edb-a02bf5424666"
   },
   "outputs": [
    {
     "name": "stdout",
     "output_type": "stream",
     "text": [
      "<class 'str'>\n",
      "<class 'int'>\n",
      "<class 'float'>\n",
      "<class 'str'>\n"
     ]
    }
   ],
   "source": [
    "# Casting = Converting values from one type to another \n",
    "number_string = \"1000\"  # notice this is a string, not really an integer...\n",
    "print(type(number_string))\n",
    "\n",
    "# Let's cast the \"1000\" into an actual integer using the int() function\n",
    "number_string = int(number_string)\n",
    "print(type(number_string))\n",
    "\n",
    "# Now let's allow decimals by casting it into a float using float() function\n",
    "number_string = float(number_string)\n",
    "print(type(number_string))\n",
    "\n",
    "# I changed my mind, I want it back into a string! Use str() function.\n",
    "number_string = str(number_string)\n",
    "print(type(number_string))\n"
   ]
  },
  {
   "cell_type": "markdown",
   "metadata": {
    "id": "SNUQo6udD-2I"
   },
   "source": [
    "##### There's TONS of pre-written functions available for you! \n",
    "##### Those functions are bundled into modules, which can further be bundled into packages.\n",
    "##### These can be imported using the import function\n",
    "##### You can also download new modules and packages too "
   ]
  },
  {
   "cell_type": "code",
   "execution_count": 8,
   "metadata": {
    "colab": {
     "base_uri": "https://localhost:8080/"
    },
    "id": "EZj-hPF8IjZI",
    "outputId": "172807ff-6508-4e3e-cbfa-961e0f0c9aa4"
   },
   "outputs": [
    {
     "data": {
      "text/plain": [
       "0.010900411077128469"
      ]
     },
     "execution_count": 8,
     "metadata": {},
     "output_type": "execute_result"
    }
   ],
   "source": [
    "# random numbers using the random module\n",
    "import random\n",
    "random.random() #returns a float between 0 and 1"
   ]
  },
  {
   "cell_type": "code",
   "execution_count": 9,
   "metadata": {
    "colab": {
     "base_uri": "https://localhost:8080/"
    },
    "id": "WDQuLSqZss2l",
    "outputId": "01b36eac-f02a-4fd2-9ade-a5add81b727e"
   },
   "outputs": [
    {
     "data": {
      "text/plain": [
       "2.0"
      ]
     },
     "execution_count": 9,
     "metadata": {},
     "output_type": "execute_result"
    }
   ],
   "source": [
    "# math module\n",
    "import math\n",
    "math.sqrt(4) # the square root function freom the math module\n",
    "# What's inside the module? You can find out with dir() function\n",
    "# dir(math) "
   ]
  },
  {
   "cell_type": "code",
   "execution_count": 23,
   "metadata": {
    "colab": {
     "base_uri": "https://localhost:8080/"
    },
    "id": "Ri2J9bqPuNR8",
    "outputId": "d2cefdf0-f4a5-4095-98a3-acc08b44502a"
   },
   "outputs": [
    {
     "name": "stdout",
     "output_type": "stream",
     "text": [
      "Hello there!\n",
      "<function hello_there at 0x000001E04BA64A40>\n"
     ]
    }
   ],
   "source": [
    "# Custom functions... super important!\n",
    "# define a new function with def\n",
    "def hello_there():   #This line that begins the function is the header. \n",
    "  print(\"Hello there!\")\n",
    "\n",
    "hello_there()\n",
    "\n",
    "# oops I forgot, what kind of object was hello_there\n",
    "print(hello_there) #oh it's a function object. \n",
    "# If you want to use the function, remember to add the parentheses () even if there are no arguments"
   ]
  },
  {
   "cell_type": "code",
   "execution_count": 24,
   "metadata": {
    "colab": {
     "base_uri": "https://localhost:8080/"
    },
    "id": "fZdGD4xlvci8",
    "outputId": "9bc1e07f-05ee-41be-ff89-89c66846cff1"
   },
   "outputs": [
    {
     "name": "stdout",
     "output_type": "stream",
     "text": [
      "Hello there!\n",
      "Hello there!\n"
     ]
    }
   ],
   "source": [
    "# functions can call other functions\n",
    "def greeting():\n",
    "    hello_there()  \n",
    "    hello_there()\n",
    "greeting()"
   ]
  },
  {
   "cell_type": "code",
   "execution_count": 25,
   "metadata": {
    "colab": {
     "base_uri": "https://localhost:8080/"
    },
    "id": "eMiU9fGk0jPt",
    "outputId": "2bf4bf43-57ec-480d-b561-72ec1fc1fdca"
   },
   "outputs": [
    {
     "name": "stdout",
     "output_type": "stream",
     "text": [
      "me too :)\n",
      "me too :)\n"
     ]
    }
   ],
   "source": [
    "def hungry(food):  # additional options passed to the function are arguments\n",
    "    input(\"Would you like to eat \" + food + \"?\\n\")  #food is a parameter (a variable within a function body)\n",
    "    print(\"me too :)\")\n",
    "\n",
    "hungry(\"pizza\") #using an argument\n",
    "\n",
    "toppings = \" with anchovies\"\n",
    "hungry(\"pizza\" + toppings) #pass a variable as an argument too\n",
    "\n"
   ]
  },
  {
   "cell_type": "code",
   "execution_count": 26,
   "metadata": {
    "id": "WB_CxB8NCQhi"
   },
   "outputs": [],
   "source": [
    "#Function returns \n",
    "def addTwoNumbers1(number_1, number_2):\n",
    "  number_1 + number_2\n",
    "addTwoNumbers1(1,2) #hmm where's the results? shouldn't it be 3?\n",
    "# The lines of code within a function are like a mini-world with it's own set of local parameters\n",
    "# If you want to have the results of the function come back into the outside global world, use return\n",
    "\n"
   ]
  },
  {
   "cell_type": "code",
   "execution_count": 27,
   "metadata": {
    "colab": {
     "base_uri": "https://localhost:8080/"
    },
    "id": "P-4oUBJUERyU",
    "outputId": "13734f7b-f3f8-4727-8299-295b1c22c10e"
   },
   "outputs": [
    {
     "data": {
      "text/plain": [
       "3"
      ]
     },
     "execution_count": 27,
     "metadata": {},
     "output_type": "execute_result"
    }
   ],
   "source": [
    "def addTwoNumbers2(number_1, number_2):\n",
    "  return number_1 + number_2\n",
    "\n",
    "addTwoNumbers2(1,2) #That's better :) "
   ]
  },
  {
   "cell_type": "code",
   "execution_count": 28,
   "metadata": {
    "colab": {
     "base_uri": "https://localhost:8080/"
    },
    "id": "ReFd4RkWEZiU",
    "outputId": "c5016b23-e691-4eff-bae0-2cf57b391811"
   },
   "outputs": [
    {
     "name": "stdout",
     "output_type": "stream",
     "text": [
      ":)\n"
     ]
    }
   ],
   "source": [
    "def addTwoNumbers3(number_1, number_2):\n",
    "  return number_1 + number_2\n",
    "addTwoNumbers3(1,2) \n",
    "print(\":)\")\n",
    "# oh no, where did the 3 go?? :( \n",
    "# well, it will show only if it's the last line of code you ran. You can show other lines with print()"
   ]
  },
  {
   "cell_type": "code",
   "execution_count": 29,
   "metadata": {
    "colab": {
     "base_uri": "https://localhost:8080/"
    },
    "id": "j8dW2gWiEvXn",
    "outputId": "c8f8223b-4bd4-4612-8e79-6331adb2df19"
   },
   "outputs": [
    {
     "name": "stdout",
     "output_type": "stream",
     "text": [
      "3\n",
      "3\n"
     ]
    }
   ],
   "source": [
    "print(addTwoNumbers3(1,2))\n",
    "#or maybe set a variable to it first to make the code easier to read\n",
    "print_number = addTwoNumbers3(1,2)\n",
    "print(print_number)"
   ]
  },
  {
   "cell_type": "markdown",
   "metadata": {
    "id": "8FNB9xJdHXCl"
   },
   "source": [
    "#### Practice Exercises!\n",
    "##### Tip: You can indent quickly with the Tab button, and remove the indent with Shift+Tab"
   ]
  },
  {
   "cell_type": "code",
   "execution_count": 12,
   "metadata": {
    "colab": {
     "base_uri": "https://localhost:8080/"
    },
    "id": "syWUy2SoGF4j",
    "outputId": "05f8f449-77b0-4c96-e66b-91977158b10f"
   },
   "outputs": [
    {
     "name": "stdout",
     "output_type": "stream",
     "text": [
      "21\n"
     ]
    }
   ],
   "source": [
    "# 1 - Fix the code so that it will prompt to input your age.\n",
    "####\n",
    "#Fix the code below!\n",
    "age = input(\"What is your age?\")\n",
    "####\n",
    "print(age)"
   ]
  },
  {
   "cell_type": "code",
   "execution_count": 13,
   "metadata": {
    "colab": {
     "base_uri": "https://localhost:8080/"
    },
    "id": "7rEEVVQlIgzV",
    "outputId": "020d4b36-999c-4605-f965-30a5aee16e58"
   },
   "outputs": [
    {
     "name": "stdout",
     "output_type": "stream",
     "text": [
      "You get paid: 720.0\n"
     ]
    }
   ],
   "source": [
    "#2 - Fix the code so it will calculate how much you should get paid. Hint: Try multiplication :)\n",
    "\n",
    "hours_work = float(input(\"How many hours do you work? \"))\n",
    "pay_rate = float(input(\"How much do you earn per hour? \"))\n",
    "paid_amount = (hours_work * pay_rate)\n",
    "\n",
    "####Fix the code below!\n",
    "print(\"You get paid:\", paid_amount)\n",
    "####\n"
   ]
  },
  {
   "cell_type": "code",
   "execution_count": 14,
   "metadata": {
    "colab": {
     "base_uri": "https://localhost:8080/"
    },
    "id": "giIRD_A-KWOB",
    "outputId": "6f8e74a2-b37f-4568-aff8-b9043893c22f"
   },
   "outputs": [
    {
     "name": "stdout",
     "output_type": "stream",
     "text": [
      "34\n"
     ]
    }
   ],
   "source": [
    "#3 - Use modulus % to extract the last two digits of 193484934\n",
    "### Fix the code below! ###\n",
    "number = 193484934 % 100\n",
    "print(number)\n",
    "\n",
    "####"
   ]
  },
  {
   "cell_type": "code",
   "execution_count": 16,
   "metadata": {
    "colab": {
     "base_uri": "https://localhost:8080/"
    },
    "id": "6b40uWV5GcwI",
    "outputId": "b7f684af-69eb-49c9-848e-cb2c40597482"
   },
   "outputs": [
    {
     "name": "stdout",
     "output_type": "stream",
     "text": [
      "That wasn't a number!! 😠 TRY AGAIN!\n"
     ]
    }
   ],
   "source": [
    "#4 - Fix the code so it will calculate how much you should get paid, \n",
    "# even if someone enters a string of text... Hint: Use try/except :)\n",
    "\n",
    "#### add code here\n",
    "try:\n",
    "    hours_work = float(input(\"How many hours do you work? \"))\n",
    "    pay_rate = float(input(\"How much do you earn per hour? \"))\n",
    "    print(\"You get paid:\", hours_work*pay_rate)\n",
    "#### \n",
    "except:\n",
    "    print(\"That wasn't a number!! 😠 TRY AGAIN!\")\n",
    "####\n",
    "\n",
    "#test it by typing in some text!\n",
    "#another hint: did you check the tabs? 🤔"
   ]
  },
  {
   "cell_type": "code",
   "execution_count": 19,
   "metadata": {
    "colab": {
     "base_uri": "https://localhost:8080/"
    },
    "id": "GHkJdzlDIcoU",
    "outputId": "884c79ba-1a70-4025-a7a0-8196f67a170c"
   },
   "outputs": [
    {
     "name": "stdout",
     "output_type": "stream",
     "text": [
      "There are 28 days in February in the year 2001\n"
     ]
    }
   ],
   "source": [
    "#5 - Debug time! This program should check if the year is a leap year... \n",
    "# It's not working... 🤔 Please fix it! \n",
    "# Hint: there are TWO changes... don't change the if statement 😉\n",
    "\n",
    "year = int(input(\"Input a year to check how many days are in February\"))\n",
    "\n",
    "try: \n",
    "    if (year % 4 == 0 and year % 100 != 0) or year % 400 == 0: #based on https://www.timeanddate.com/date/leapyear.html\n",
    "        print(\"There are 29 days in February in the year\", year)\n",
    "    else:\n",
    "        print(\"There are 28 days in February in the year\", year)\n",
    "except:\n",
    "    print(\"Incorrect input. Please enter a numeric year.\")\n",
    "\n"
   ]
  },
  {
   "cell_type": "code",
   "execution_count": 22,
   "metadata": {
    "colab": {
     "base_uri": "https://localhost:8080/"
    },
    "id": "WkchrqooiXA3",
    "outputId": "a403f812-ceb0-4eb4-dcef-2b4c1e4ee549"
   },
   "outputs": [
    {
     "name": "stdout",
     "output_type": "stream",
     "text": [
      "Inside the function: This is approximately equivalent to a(n): A-\n",
      "Outside the function: My grade is approximately a(n) A-\n"
     ]
    }
   ],
   "source": [
    "#6 - Look at the following function... it'll tell you what approximate grade \n",
    "# equivalent for a given GPA. I want to save the letter grade for later...\n",
    "# ONE line of code is missing...what would it be?\n",
    "def gpa(grade):\n",
    "    if grade >= 4:\n",
    "        letter_grade = 'A'\n",
    "    elif grade > 3.67:\t\n",
    "        letter_grade = 'A-'\n",
    "    elif grade > 3.33:\t\n",
    "        letter_grade = 'B+'\n",
    "    elif grade > 3:\t\n",
    "        letter_grade = 'B'\n",
    "    elif grade > 2.67:\t\n",
    "        letter_grade = 'B-'\n",
    "    elif grade > 2.33:\t\n",
    "        letter_grade = 'C+'\n",
    "    elif grade > 2:\t\n",
    "        letter_grade = 'C'\n",
    "    elif grade > 1.67:\t\n",
    "        letter_grade = 'C-'\n",
    "    elif grade > 1.33:\t\n",
    "        letter_grade = 'D+'\n",
    "    elif grade > 1:\t\n",
    "        letter_grade = 'D'\n",
    "    elif grade > 0.67:\t\n",
    "        letter_grade = 'D-'\n",
    "    elif grade >= 0:\t\n",
    "        letter_grade = 'F'\n",
    "    print(\"Inside the function: This is approximately equivalent to a(n):\", letter_grade)\n",
    "    return letter_grade\n",
    "    \n",
    "\n",
    "final_grade = gpa(3.9)\n",
    "\n",
    "# This next line isn't working! I want to save the letter_grade inside the gpa() function for later... how to do that?\n",
    "print(\"Outside the function: My grade is approximately a(n)\", final_grade)\n"
   ]
  },
  {
   "cell_type": "markdown",
   "metadata": {
    "id": "lGYOk9dSxxUF"
   },
   "source": [
    "Copyright Benjamin J. Becerra v2022.01.23.0 "
   ]
  }
 ],
 "metadata": {
  "colab": {
   "collapsed_sections": [],
   "name": "IST 4320 - Activity 1",
   "provenance": []
  },
  "kernelspec": {
   "display_name": "Python 3 (ipykernel)",
   "language": "python",
   "name": "python3"
  },
  "language_info": {
   "codemirror_mode": {
    "name": "ipython",
    "version": 3
   },
   "file_extension": ".py",
   "mimetype": "text/x-python",
   "name": "python",
   "nbconvert_exporter": "python",
   "pygments_lexer": "ipython3",
   "version": "3.11.4"
  }
 },
 "nbformat": 4,
 "nbformat_minor": 4
}
